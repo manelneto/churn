{
 "cells": [
  {
   "cell_type": "markdown",
   "metadata": {},
   "source": [
    "## **Banking Customer Churn Prediction**\n",
    "\n",
    "![logo](images/logo.jpg)\n",
    "\n",
    "### **Elementos do grupo**\n",
    "\n",
    "Grupo A2_42\n",
    "\n",
    "| Nome | E-mail |\n",
    "|-|-|\n",
    "| António Marujo Rama | up202108801@up.pt |\n",
    "| Manuel Ramos Leite Carvalho Neto | up202108782@up.pt |\n",
    "| Matilde Isabel da Silva Simões | up202108782@up.pt |\n"
   ]
  },
  {
   "cell_type": "markdown",
   "metadata": {},
   "source": [
    "### **Introdução**\n",
    "\n",
    "O objetivo deste projeto é prever a probabilidade de um cliente terminar a sua ligação com o banco. Para tal, foi utilizado um dataset disponibilizado no Kaggle (https://www.kaggle.com/datasets/saurabhbadole/bank-customer-churn-prediction-dataset), que contém informações sobre os clientes, como o saldo, o número de produtos que o cliente possui, entre outros.\n",
    "\n",
    "### **Dataset**\n",
    "\n",
    "O dataset utilizado contém 10000 entradas e 14 colunas. As colunas são as seguintes:\n",
    "\n",
    "1. **RowNumber**: número da linha (único 1-10000)\n",
    "2. **CustomerId**: identificação do cliente (único 15.6m-15.8m)\n",
    "3. **Surname**: nome do cliente \n",
    "4. **CreditScore**: pontuação do crédito (350-850)\n",
    "5. **Geography**: país de origem (France, Spain, Germany)\n",
    "6. **Gender**: género (Male, Female)\n",
    "7. **Age**: idade (18-92)\n",
    "8. **Tenure**: duração do uso do cartão de crédito (0-10)\n",
    "9. **Balance**: saldo do cartão de crédito (0-251k)\n",
    "10. **NumOfProducts**: número de produtos (1-4)\n",
    "11. **HasCrCard**: tem cartão de crédito? (0 que corresponde a falso, 1 que corresponde a verdadeiro)\n",
    "12. **IsActiveMember**: é membro ativo? (0 que corresponde a falso, 1 que corresponde a verdadeiro)\n",
    "13. **EstimatedSalary**: salário estimado (11k-199k)\n",
    "14. **Exited**: abandonou o banco? (0 que corresponde a falso, 1 que corresponde a verdadeiro)\n",
    "\n",
    "### **Problema**\n",
    "\n",
    "O problema consiste em prever se um cliente vai abandonar o banco, baseando o resultado na análise e na perceção da distribuição de dados e relação entre as variáveis do dataset mencionado no ponto anterior. Traduz-se, então, numa classificação binária (abandonar/não abandonar)."
   ]
  }
 ],
 "metadata": {
  "language_info": {
   "name": "python"
  }
 },
 "nbformat": 4,
 "nbformat_minor": 2
}
